{
 "cells": [
  {
   "cell_type": "code",
   "execution_count": null,
   "id": "6fd04743",
   "metadata": {},
   "outputs": [],
   "source": [
    "import requests\n",
    "import json\n",
    "import csv\n",
    "\n",
    "# URL for the API endpoint\n",
    "url = \"https://gis.mtdeq.us/hosting/rest/services/Hosted/montana_aqmon_stations_dataportal/FeatureServer/0/query\"\n",
    "\n",
    "# Parameters for the API request\n",
    "params = {\n",
    "    'f': 'json',\n",
    "    'where': \"sitename='Butte' AND parameter='PM25'\",\n",
    "    'outFields': '*',\n",
    "    'returnGeometry': 'false',\n",
    "    'resultRecordCount': 1000  # The number of records to retrieve per request\n",
    "}\n",
    "\n",
    "# Open a file for writing\n",
    "with open('C:\\\\Users\\\\bowen\\\\Downloads\\\\output_Butte_PM25.csv', 'w', newline='') as csvfile:\n",
    "    writer = None\n",
    "\n",
    "    # Initialize the offset\n",
    "    params['resultOffset'] = 0\n",
    "\n",
    "    while True:\n",
    "        # Send the API request\n",
    "        response = requests.get(url, params=params)\n",
    "        \n",
    "        # Check if the request was successful\n",
    "        response.raise_for_status()\n",
    "\n",
    "        # Load the data from the response\n",
    "        data = json.loads(response.text)\n",
    "\n",
    "        # If no features are returned, we're done\n",
    "        if not data['features']:\n",
    "            break\n",
    "\n",
    "        # Extract the features from the data\n",
    "        features = data['features']\n",
    "\n",
    "        # If this is the first request, initialize the writer\n",
    "        if writer is None:\n",
    "            # Extract the field names from the first feature (assuming all features have the same fields)\n",
    "            field_names = features[0]['attributes'].keys()\n",
    "            writer = csv.DictWriter(csvfile, fieldnames=field_names)\n",
    "            # Write the header\n",
    "            writer.writeheader()\n",
    "\n",
    "        # Write the data\n",
    "        for feature in features:\n",
    "            writer.writerow(feature['attributes'])\n",
    "\n",
    "        # Update the offset\n",
    "        params['resultOffset'] += params['resultRecordCount']"
   ]
  }
 ],
 "metadata": {
  "kernelspec": {
   "display_name": "Python 3 (ipykernel)",
   "language": "python",
   "name": "python3"
  },
  "language_info": {
   "codemirror_mode": {
    "name": "ipython",
    "version": 3
   },
   "file_extension": ".py",
   "mimetype": "text/x-python",
   "name": "python",
   "nbconvert_exporter": "python",
   "pygments_lexer": "ipython3",
   "version": "3.9.16"
  }
 },
 "nbformat": 4,
 "nbformat_minor": 5
}
